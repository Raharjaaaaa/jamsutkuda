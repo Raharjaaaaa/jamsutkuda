{
 "cells": [
  {
   "cell_type": "markdown",
   "id": "f7f0ca39",
   "metadata": {},
   "source": [
    "<center><img src=\"https://static.wixstatic.com/media/b6f301_e098151b69084ab0885f9926643d7dec.png/v1/fill/w_203,h_215,al_c,lg_1,q_85,usm_1.20_1.00_0.01,enc_avif,quality_auto/b6f301_e098151b69084ab0885f9926643d7dec.png\" width=\"200\"></center><br>\n",
    "Pada jupyter notebooks jenis <b>cell</b> terbagi menjadi\n",
    "<ol> \n",
    "    <Li>M (Mark Down) -> M</Li>\n",
    "    <Li>Y (Code) -> Y</Li>\n",
    "<ol>\n",
    "<hr>"
   ]
  },
  {
   "cell_type": "markdown",
   "id": "97c2bfce",
   "metadata": {},
   "source": [
    "Cara menambahkan </b>cell</b> terbagi menjadi 2 :\n",
    "</ul>\n",
    "<Li>A -(Above) Menambahkan diatas cell aktif </Li>\n",
    "<Li>B -(Below) Menambahkan dibawah cell aktif </Li>\n",
    "</ul>"
   ]
  },
  {
   "cell_type": "markdown",
   "id": "86f3142e",
   "metadata": {},
   "source": [
    "<table>\n",
    "    <tr>\n",
    "        <td>Perintah</td>\n",
    "        <td>Keterangan</td>\n",
    "    </tr>\n",
    "    <tr>\n",
    "        <td>ctrl + enter<td>\n",
    "        <td>Running Program dengan fokus di cell aktif</td>\n",
    "    </tr>\n",
    "    <tr>\n",
    "        <td>shift + enter</td>\n",
    "        <td>Running Program dengan di cell berikutnya</td>\n",
    "    </tr>\n",
    "    </table>\n",
    "    \n",
    "    \n",
    "        \n",
    "     \n"
   ]
  },
  {
   "cell_type": "code",
   "execution_count": 1,
   "id": "a6e78379",
   "metadata": {},
   "outputs": [
    {
     "name": "stdout",
     "output_type": "stream",
     "text": [
      "manchester united is back\n",
      "4\n"
     ]
    },
    {
     "data": {
      "text/plain": [
       "6"
      ]
     },
     "execution_count": 1,
     "metadata": {},
     "output_type": "execute_result"
    }
   ],
   "source": [
    "# this is comment\n",
    "print(\"manchester united is back\")\n",
    "data =\"4\"\n",
    "print(data)\n",
    "3+3\n"
   ]
  },
  {
   "cell_type": "code",
   "execution_count": null,
   "id": "8c0b7469",
   "metadata": {},
   "outputs": [],
   "source": []
  }
 ],
 "metadata": {
  "kernelspec": {
   "display_name": "Python 3 (ipykernel)",
   "language": "python",
   "name": "python3"
  },
  "language_info": {
   "codemirror_mode": {
    "name": "ipython",
    "version": 3
   },
   "file_extension": ".py",
   "mimetype": "text/x-python",
   "name": "python",
   "nbconvert_exporter": "python",
   "pygments_lexer": "ipython3",
   "version": "3.9.12"
  }
 },
 "nbformat": 4,
 "nbformat_minor": 5
}
